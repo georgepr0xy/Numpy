{
 "cells": [
  {
   "cell_type": "markdown",
   "id": "403235d6-38d0-404b-9eb5-615869fba2e2",
   "metadata": {},
   "source": [
    "# Welcom to numpy"
   ]
  },
  {
   "cell_type": "code",
   "execution_count": 1,
   "id": "2b71eead-7243-4549-952f-cb1f969e4873",
   "metadata": {},
   "outputs": [],
   "source": [
    "import numpy as np"
   ]
  },
  {
   "cell_type": "code",
   "execution_count": 2,
   "id": "386669ea-5d8a-4499-9689-e35d7d98d9af",
   "metadata": {},
   "outputs": [],
   "source": [
    "myarr = np.array([2,3,4,5,6,3] , np.int64)"
   ]
  },
  {
   "cell_type": "code",
   "execution_count": 3,
   "id": "cf5cf877-f3ed-483d-b811-b25c82a9b5f3",
   "metadata": {},
   "outputs": [
    {
     "data": {
      "text/plain": [
       "array([2, 3, 4, 5, 6, 3], dtype=int64)"
      ]
     },
     "execution_count": 3,
     "metadata": {},
     "output_type": "execute_result"
    }
   ],
   "source": [
    "myarr"
   ]
  },
  {
   "cell_type": "code",
   "execution_count": 4,
   "id": "8308b09e-c28c-4034-ad7d-af1f33815903",
   "metadata": {},
   "outputs": [
    {
     "data": {
      "text/plain": [
       "3"
      ]
     },
     "execution_count": 4,
     "metadata": {},
     "output_type": "execute_result"
    }
   ],
   "source": [
    "myarr[1]"
   ]
  },
  {
   "cell_type": "code",
   "execution_count": 5,
   "id": "9fd3a4ed-6d53-4ae6-b82f-f3dddde6966a",
   "metadata": {},
   "outputs": [
    {
     "data": {
      "text/plain": [
       "(6,)"
      ]
     },
     "execution_count": 5,
     "metadata": {},
     "output_type": "execute_result"
    }
   ],
   "source": [
    "myarr.shape"
   ]
  },
  {
   "cell_type": "code",
   "execution_count": 6,
   "id": "f4c0595f-4fbd-425d-be53-b2f75d52cd31",
   "metadata": {},
   "outputs": [
    {
     "data": {
      "text/plain": [
       "dtype('int64')"
      ]
     },
     "execution_count": 6,
     "metadata": {},
     "output_type": "execute_result"
    }
   ],
   "source": [
    "myarr.dtype"
   ]
  },
  {
   "cell_type": "code",
   "execution_count": 7,
   "id": "9cec7e52-e98b-4f7f-baa6-b9a2901a365c",
   "metadata": {},
   "outputs": [],
   "source": [
    "myarr[3]=23"
   ]
  },
  {
   "cell_type": "code",
   "execution_count": 8,
   "id": "347d1c80-e1b4-46c3-904f-d9d0bc1b095d",
   "metadata": {},
   "outputs": [
    {
     "data": {
      "text/plain": [
       "array([ 2,  3,  4, 23,  6,  3], dtype=int64)"
      ]
     },
     "execution_count": 8,
     "metadata": {},
     "output_type": "execute_result"
    }
   ],
   "source": [
    "myarr"
   ]
  },
  {
   "cell_type": "code",
   "execution_count": 9,
   "id": "d434a958-4619-4dd2-a958-8b2408029192",
   "metadata": {},
   "outputs": [
    {
     "data": {
      "text/plain": [
       "2"
      ]
     },
     "execution_count": 9,
     "metadata": {},
     "output_type": "execute_result"
    }
   ],
   "source": [
    "myarr[0]"
   ]
  },
  {
   "cell_type": "code",
   "execution_count": 10,
   "id": "1ae99acc-c15d-4661-9ac0-e8e2510c481c",
   "metadata": {},
   "outputs": [
    {
     "data": {
      "text/plain": [
       "(6,)"
      ]
     },
     "execution_count": 10,
     "metadata": {},
     "output_type": "execute_result"
    }
   ],
   "source": [
    "myarr.shape"
   ]
  },
  {
   "cell_type": "code",
   "execution_count": 11,
   "id": "e0142d86-a9e0-413a-8094-67e96cd75b20",
   "metadata": {},
   "outputs": [
    {
     "data": {
      "text/plain": [
       "(6,)"
      ]
     },
     "execution_count": 11,
     "metadata": {},
     "output_type": "execute_result"
    }
   ],
   "source": [
    "myarr.shape"
   ]
  },
  {
   "cell_type": "code",
   "execution_count": 12,
   "id": "b35d01e6-501d-48d3-a130-c390b74a2579",
   "metadata": {},
   "outputs": [
    {
     "data": {
      "text/plain": [
       "6"
      ]
     },
     "execution_count": 12,
     "metadata": {},
     "output_type": "execute_result"
    }
   ],
   "source": [
    "myarr[4]"
   ]
  },
  {
   "cell_type": "code",
   "execution_count": 13,
   "id": "e9f1ea84-ccd4-4260-bc68-921673105e36",
   "metadata": {},
   "outputs": [],
   "source": [
    "myarr[4]=35"
   ]
  },
  {
   "cell_type": "code",
   "execution_count": 14,
   "id": "07c2e722-7e72-425c-826a-af3588dab920",
   "metadata": {},
   "outputs": [
    {
     "data": {
      "text/plain": [
       "35"
      ]
     },
     "execution_count": 14,
     "metadata": {},
     "output_type": "execute_result"
    }
   ],
   "source": [
    "myarr[4]"
   ]
  },
  {
   "cell_type": "code",
   "execution_count": 15,
   "id": "b1a3aed5-0626-4480-b010-86c129085403",
   "metadata": {},
   "outputs": [
    {
     "data": {
      "text/plain": [
       "array([ 2,  3,  4, 23, 35,  3], dtype=int64)"
      ]
     },
     "execution_count": 15,
     "metadata": {},
     "output_type": "execute_result"
    }
   ],
   "source": [
    "myarr"
   ]
  },
  {
   "cell_type": "markdown",
   "id": "3f040ac0-17a1-42bc-ac07-2fdf330fdf5a",
   "metadata": {},
   "source": [
    "# Array creation: conversion fro python structures"
   ]
  },
  {
   "cell_type": "code",
   "execution_count": 16,
   "id": "71202a64-dc85-4027-8f4d-2e5eb2e8dcba",
   "metadata": {},
   "outputs": [],
   "source": [
    "dimensarray = np.array([[2,56,34],[4,6,54],[34,3,45]])"
   ]
  },
  {
   "cell_type": "code",
   "execution_count": 17,
   "id": "a4120017-4776-42da-b2c5-e0fdf603abe3",
   "metadata": {},
   "outputs": [
    {
     "data": {
      "text/plain": [
       "array([[ 2, 56, 34],\n",
       "       [ 4,  6, 54],\n",
       "       [34,  3, 45]])"
      ]
     },
     "execution_count": 17,
     "metadata": {},
     "output_type": "execute_result"
    }
   ],
   "source": [
    "dimensarray"
   ]
  },
  {
   "cell_type": "code",
   "execution_count": 18,
   "id": "0cfbcf45-d795-47df-9277-a358556bc768",
   "metadata": {},
   "outputs": [
    {
     "data": {
      "text/plain": [
       "9"
      ]
     },
     "execution_count": 18,
     "metadata": {},
     "output_type": "execute_result"
    }
   ],
   "source": [
    "dimensarray.size"
   ]
  },
  {
   "cell_type": "code",
   "execution_count": 19,
   "id": "04f4974b-5fc8-4115-8c55-077dc4979227",
   "metadata": {},
   "outputs": [
    {
     "data": {
      "text/plain": [
       "(3, 3)"
      ]
     },
     "execution_count": 19,
     "metadata": {},
     "output_type": "execute_result"
    }
   ],
   "source": [
    "dimensarray.shape"
   ]
  },
  {
   "cell_type": "code",
   "execution_count": 20,
   "id": "ed124fa3-af14-4861-85b1-db4df89e58a1",
   "metadata": {},
   "outputs": [
    {
     "data": {
      "text/plain": [
       "dtype('int32')"
      ]
     },
     "execution_count": 20,
     "metadata": {},
     "output_type": "execute_result"
    }
   ],
   "source": [
    "dimensarray.dtype"
   ]
  },
  {
   "cell_type": "code",
   "execution_count": 21,
   "id": "bd819507-d61d-40e6-be96-c9b6b9a4bbef",
   "metadata": {},
   "outputs": [],
   "source": [
    "zeros = np.zeros((2,4))"
   ]
  },
  {
   "cell_type": "code",
   "execution_count": 22,
   "id": "d34dff2f-d327-467a-878c-537fbfcd53bb",
   "metadata": {},
   "outputs": [
    {
     "data": {
      "text/plain": [
       "array([[0., 0., 0., 0.],\n",
       "       [0., 0., 0., 0.]])"
      ]
     },
     "execution_count": 22,
     "metadata": {},
     "output_type": "execute_result"
    }
   ],
   "source": [
    "zeros"
   ]
  },
  {
   "cell_type": "code",
   "execution_count": 23,
   "id": "6ff95244-f02a-4c2b-a8d9-5544d7c64dd6",
   "metadata": {},
   "outputs": [
    {
     "data": {
      "text/plain": [
       "dtype('float64')"
      ]
     },
     "execution_count": 23,
     "metadata": {},
     "output_type": "execute_result"
    }
   ],
   "source": [
    "zeros.dtype"
   ]
  },
  {
   "cell_type": "code",
   "execution_count": 24,
   "id": "2bc15ba6-7c93-4737-89c0-252f9d526350",
   "metadata": {},
   "outputs": [
    {
     "data": {
      "text/plain": [
       "(2, 4)"
      ]
     },
     "execution_count": 24,
     "metadata": {},
     "output_type": "execute_result"
    }
   ],
   "source": [
    "zeros.shape"
   ]
  },
  {
   "cell_type": "code",
   "execution_count": 25,
   "id": "dcacabca-b089-4869-a69e-ad2016e06b89",
   "metadata": {},
   "outputs": [
    {
     "data": {
      "text/plain": [
       "8"
      ]
     },
     "execution_count": 25,
     "metadata": {},
     "output_type": "execute_result"
    }
   ],
   "source": [
    "zeros.size"
   ]
  },
  {
   "cell_type": "code",
   "execution_count": 26,
   "id": "db5a6312-8403-4be3-9e0f-05f0b0158a2e",
   "metadata": {},
   "outputs": [],
   "source": [
    "ranges = np.arange(20)"
   ]
  },
  {
   "cell_type": "code",
   "execution_count": 27,
   "id": "ff476adf-0959-4e2c-9236-6a297a9dbe6f",
   "metadata": {},
   "outputs": [
    {
     "data": {
      "text/plain": [
       "dtype('int32')"
      ]
     },
     "execution_count": 27,
     "metadata": {},
     "output_type": "execute_result"
    }
   ],
   "source": [
    "ranges.dtype"
   ]
  },
  {
   "cell_type": "code",
   "execution_count": 28,
   "id": "2abc1c4c-5668-4ab2-964e-7d0b8814e027",
   "metadata": {},
   "outputs": [
    {
     "data": {
      "text/plain": [
       "array([ 0,  1,  2,  3,  4,  5,  6,  7,  8,  9, 10, 11, 12, 13, 14, 15, 16,\n",
       "       17, 18, 19])"
      ]
     },
     "execution_count": 28,
     "metadata": {},
     "output_type": "execute_result"
    }
   ],
   "source": [
    "ranges"
   ]
  },
  {
   "cell_type": "code",
   "execution_count": 29,
   "id": "18a8f4a8-2fd9-44e0-a16c-addc6cf54ed6",
   "metadata": {},
   "outputs": [],
   "source": [
    "lspace = np.linspace(1,10,15)"
   ]
  },
  {
   "cell_type": "code",
   "execution_count": 30,
   "id": "adef5fcc-f421-489d-bd81-9a2f2e3545c4",
   "metadata": {},
   "outputs": [
    {
     "data": {
      "text/plain": [
       "array([ 1.        ,  1.64285714,  2.28571429,  2.92857143,  3.57142857,\n",
       "        4.21428571,  4.85714286,  5.5       ,  6.14285714,  6.78571429,\n",
       "        7.42857143,  8.07142857,  8.71428571,  9.35714286, 10.        ])"
      ]
     },
     "execution_count": 30,
     "metadata": {},
     "output_type": "execute_result"
    }
   ],
   "source": [
    "lspace"
   ]
  },
  {
   "cell_type": "code",
   "execution_count": 31,
   "id": "1bfd7a72-6fdb-4441-8f74-422bfded1831",
   "metadata": {},
   "outputs": [],
   "source": [
    "emty = np.empty((4,6))"
   ]
  },
  {
   "cell_type": "code",
   "execution_count": 32,
   "id": "babe0fb1-5173-4a1a-8eb6-01a03df619be",
   "metadata": {},
   "outputs": [
    {
     "data": {
      "text/plain": [
       "array([[4.94065646e-324, 1.27319747e-313, 9.80058112e+252,\n",
       "        1.21211036e-311, 1.35617278e+248, 5.62349085e-062],\n",
       "       [1.48539705e-313, 2.54639495e-313, 6.58060804e-066,\n",
       "        1.21212085e-311, 1.21211036e-311, 8.37170362e-144],\n",
       "       [4.94065646e-324, 2.54639495e-313, 1.52202239e+188,\n",
       "        1.21211036e-311, 8.03704157e-095, 4.24511423e+175],\n",
       "       [1.48539705e-313, 2.54639495e-313, 6.00465779e-143,\n",
       "        1.21212085e-311, 1.21211036e-311, 4.51223666e-037]])"
      ]
     },
     "execution_count": 32,
     "metadata": {},
     "output_type": "execute_result"
    }
   ],
   "source": [
    "emty"
   ]
  },
  {
   "cell_type": "code",
   "execution_count": 33,
   "id": "cadf929b-51fc-4a98-89a5-4a1ac166fa31",
   "metadata": {},
   "outputs": [],
   "source": [
    "emp_like = np.empty_like(lspace)"
   ]
  },
  {
   "cell_type": "code",
   "execution_count": 34,
   "id": "091f409e-ac1d-4b72-96a5-5415171157eb",
   "metadata": {},
   "outputs": [
    {
     "data": {
      "text/plain": [
       "array([ 1.        ,  1.64285714,  2.28571429,  2.92857143,  3.57142857,\n",
       "        4.21428571,  4.85714286,  5.5       ,  6.14285714,  6.78571429,\n",
       "        7.42857143,  8.07142857,  8.71428571,  9.35714286, 10.        ])"
      ]
     },
     "execution_count": 34,
     "metadata": {},
     "output_type": "execute_result"
    }
   ],
   "source": [
    "emp_like"
   ]
  },
  {
   "cell_type": "code",
   "execution_count": 35,
   "id": "b521b7e9-bc36-450f-9a15-db1241dfa12f",
   "metadata": {},
   "outputs": [],
   "source": [
    "idt = np.identity(4)"
   ]
  },
  {
   "cell_type": "code",
   "execution_count": 36,
   "id": "25f8397f-b253-4b4d-b3bb-4728f79caca5",
   "metadata": {},
   "outputs": [
    {
     "data": {
      "text/plain": [
       "array([[1., 0., 0., 0.],\n",
       "       [0., 1., 0., 0.],\n",
       "       [0., 0., 1., 0.],\n",
       "       [0., 0., 0., 1.]])"
      ]
     },
     "execution_count": 36,
     "metadata": {},
     "output_type": "execute_result"
    }
   ],
   "source": [
    "idt"
   ]
  },
  {
   "cell_type": "code",
   "execution_count": 37,
   "id": "56cfb3a2-aea7-412a-967a-151226e8202c",
   "metadata": {},
   "outputs": [
    {
     "data": {
      "text/plain": [
       "(4, 4)"
      ]
     },
     "execution_count": 37,
     "metadata": {},
     "output_type": "execute_result"
    }
   ],
   "source": [
    "idt.shape"
   ]
  },
  {
   "cell_type": "code",
   "execution_count": 38,
   "id": "f044cea1-1479-4f25-935a-e3805c5d7510",
   "metadata": {},
   "outputs": [
    {
     "data": {
      "text/plain": [
       "16"
      ]
     },
     "execution_count": 38,
     "metadata": {},
     "output_type": "execute_result"
    }
   ],
   "source": [
    "idt.size"
   ]
  },
  {
   "cell_type": "code",
   "execution_count": 39,
   "id": "1e7996c5-0dc0-44bb-a6ef-7ef2e971658a",
   "metadata": {},
   "outputs": [],
   "source": [
    "idt[2,3]=6"
   ]
  },
  {
   "cell_type": "code",
   "execution_count": 40,
   "id": "af544b01-d3ab-47ee-bbef-32b8f745bd29",
   "metadata": {},
   "outputs": [
    {
     "data": {
      "text/plain": [
       "array([[1., 0., 0., 0.],\n",
       "       [0., 1., 0., 0.],\n",
       "       [0., 0., 1., 6.],\n",
       "       [0., 0., 0., 1.]])"
      ]
     },
     "execution_count": 40,
     "metadata": {},
     "output_type": "execute_result"
    }
   ],
   "source": [
    "idt"
   ]
  },
  {
   "cell_type": "code",
   "execution_count": 41,
   "id": "43d9cc66-66b4-4a22-a59d-286c6f87af42",
   "metadata": {},
   "outputs": [],
   "source": [
    "arr = np.arange(99)"
   ]
  },
  {
   "cell_type": "code",
   "execution_count": 42,
   "id": "f16a2f84-7b15-4229-b635-9446de3ac918",
   "metadata": {},
   "outputs": [
    {
     "data": {
      "text/plain": [
       "array([ 0,  1,  2,  3,  4,  5,  6,  7,  8,  9, 10, 11, 12, 13, 14, 15, 16,\n",
       "       17, 18, 19, 20, 21, 22, 23, 24, 25, 26, 27, 28, 29, 30, 31, 32, 33,\n",
       "       34, 35, 36, 37, 38, 39, 40, 41, 42, 43, 44, 45, 46, 47, 48, 49, 50,\n",
       "       51, 52, 53, 54, 55, 56, 57, 58, 59, 60, 61, 62, 63, 64, 65, 66, 67,\n",
       "       68, 69, 70, 71, 72, 73, 74, 75, 76, 77, 78, 79, 80, 81, 82, 83, 84,\n",
       "       85, 86, 87, 88, 89, 90, 91, 92, 93, 94, 95, 96, 97, 98])"
      ]
     },
     "execution_count": 42,
     "metadata": {},
     "output_type": "execute_result"
    }
   ],
   "source": [
    "arr"
   ]
  },
  {
   "cell_type": "code",
   "execution_count": 43,
   "id": "5c35f53a-e254-4be9-9957-c64f216e66d2",
   "metadata": {},
   "outputs": [
    {
     "data": {
      "text/plain": [
       "array([[ 0,  1,  2,  3,  4,  5,  6,  7,  8,  9, 10, 11, 12, 13, 14, 15,\n",
       "        16, 17, 18, 19, 20, 21, 22, 23, 24, 25, 26, 27, 28, 29, 30, 31,\n",
       "        32],\n",
       "       [33, 34, 35, 36, 37, 38, 39, 40, 41, 42, 43, 44, 45, 46, 47, 48,\n",
       "        49, 50, 51, 52, 53, 54, 55, 56, 57, 58, 59, 60, 61, 62, 63, 64,\n",
       "        65],\n",
       "       [66, 67, 68, 69, 70, 71, 72, 73, 74, 75, 76, 77, 78, 79, 80, 81,\n",
       "        82, 83, 84, 85, 86, 87, 88, 89, 90, 91, 92, 93, 94, 95, 96, 97,\n",
       "        98]])"
      ]
     },
     "execution_count": 43,
     "metadata": {},
     "output_type": "execute_result"
    }
   ],
   "source": [
    "arr.reshape(3,33)"
   ]
  },
  {
   "cell_type": "code",
   "execution_count": 44,
   "id": "c8f9e836-d45c-4620-b37c-0a8414ba7858",
   "metadata": {},
   "outputs": [
    {
     "data": {
      "text/plain": [
       "array([ 0,  1,  2,  3,  4,  5,  6,  7,  8,  9, 10, 11, 12, 13, 14, 15, 16,\n",
       "       17, 18, 19, 20, 21, 22, 23, 24, 25, 26, 27, 28, 29, 30, 31, 32, 33,\n",
       "       34, 35, 36, 37, 38, 39, 40, 41, 42, 43, 44, 45, 46, 47, 48, 49, 50,\n",
       "       51, 52, 53, 54, 55, 56, 57, 58, 59, 60, 61, 62, 63, 64, 65, 66, 67,\n",
       "       68, 69, 70, 71, 72, 73, 74, 75, 76, 77, 78, 79, 80, 81, 82, 83, 84,\n",
       "       85, 86, 87, 88, 89, 90, 91, 92, 93, 94, 95, 96, 97, 98])"
      ]
     },
     "execution_count": 44,
     "metadata": {},
     "output_type": "execute_result"
    }
   ],
   "source": [
    "arr"
   ]
  },
  {
   "cell_type": "code",
   "execution_count": 45,
   "id": "62174089-a5cf-4778-8963-f2765f293089",
   "metadata": {},
   "outputs": [],
   "source": [
    "arr = arr.reshape(3,33)"
   ]
  },
  {
   "cell_type": "code",
   "execution_count": 46,
   "id": "c9bdaaeb-80d7-432b-a043-de015c4a5fd0",
   "metadata": {},
   "outputs": [
    {
     "data": {
      "text/plain": [
       "array([[ 0,  1,  2,  3,  4,  5,  6,  7,  8,  9, 10, 11, 12, 13, 14, 15,\n",
       "        16, 17, 18, 19, 20, 21, 22, 23, 24, 25, 26, 27, 28, 29, 30, 31,\n",
       "        32],\n",
       "       [33, 34, 35, 36, 37, 38, 39, 40, 41, 42, 43, 44, 45, 46, 47, 48,\n",
       "        49, 50, 51, 52, 53, 54, 55, 56, 57, 58, 59, 60, 61, 62, 63, 64,\n",
       "        65],\n",
       "       [66, 67, 68, 69, 70, 71, 72, 73, 74, 75, 76, 77, 78, 79, 80, 81,\n",
       "        82, 83, 84, 85, 86, 87, 88, 89, 90, 91, 92, 93, 94, 95, 96, 97,\n",
       "        98]])"
      ]
     },
     "execution_count": 46,
     "metadata": {},
     "output_type": "execute_result"
    }
   ],
   "source": [
    "arr"
   ]
  },
  {
   "cell_type": "code",
   "execution_count": 47,
   "id": "eadbfe4a-2f56-48f7-ad75-965bc9c71c4a",
   "metadata": {},
   "outputs": [],
   "source": [
    "arr = arr.ravel()"
   ]
  },
  {
   "cell_type": "code",
   "execution_count": 48,
   "id": "7a71edd0-8b4f-4a2d-b9c6-74263b2aed5f",
   "metadata": {},
   "outputs": [
    {
     "data": {
      "text/plain": [
       "array([ 0,  1,  2,  3,  4,  5,  6,  7,  8,  9, 10, 11, 12, 13, 14, 15, 16,\n",
       "       17, 18, 19, 20, 21, 22, 23, 24, 25, 26, 27, 28, 29, 30, 31, 32, 33,\n",
       "       34, 35, 36, 37, 38, 39, 40, 41, 42, 43, 44, 45, 46, 47, 48, 49, 50,\n",
       "       51, 52, 53, 54, 55, 56, 57, 58, 59, 60, 61, 62, 63, 64, 65, 66, 67,\n",
       "       68, 69, 70, 71, 72, 73, 74, 75, 76, 77, 78, 79, 80, 81, 82, 83, 84,\n",
       "       85, 86, 87, 88, 89, 90, 91, 92, 93, 94, 95, 96, 97, 98])"
      ]
     },
     "execution_count": 48,
     "metadata": {},
     "output_type": "execute_result"
    }
   ],
   "source": [
    "arr"
   ]
  },
  {
   "cell_type": "code",
   "execution_count": 49,
   "id": "01449d7c-3fdb-42b8-a38c-e4ec307b0b63",
   "metadata": {},
   "outputs": [],
   "source": [
    "araxis = np.array([[1,23,3],\n",
    "                  [3,5,9],\n",
    "                 [4,2,8]])"
   ]
  },
  {
   "cell_type": "code",
   "execution_count": 50,
   "id": "916ec8ec-9ca2-4122-b75b-76051f3ecdcd",
   "metadata": {},
   "outputs": [
    {
     "data": {
      "text/plain": [
       "array([[ 1, 23,  3],\n",
       "       [ 3,  5,  9],\n",
       "       [ 4,  2,  8]])"
      ]
     },
     "execution_count": 50,
     "metadata": {},
     "output_type": "execute_result"
    }
   ],
   "source": [
    "araxis"
   ]
  },
  {
   "cell_type": "code",
   "execution_count": 51,
   "id": "3747927a-9ce7-4626-856b-dfd016a5c802",
   "metadata": {},
   "outputs": [
    {
     "ename": "NameError",
     "evalue": "name 'sumaxis' is not defined",
     "output_type": "error",
     "traceback": [
      "\u001b[1;31m---------------------------------------------------------------------------\u001b[0m",
      "\u001b[1;31mNameError\u001b[0m                                 Traceback (most recent call last)",
      "Cell \u001b[1;32mIn[51], line 1\u001b[0m\n\u001b[1;32m----> 1\u001b[0m \u001b[43msumaxis\u001b[49m\u001b[38;5;241m.\u001b[39msum(axis\u001b[38;5;241m=\u001b[39m\u001b[38;5;241m0\u001b[39m)\n",
      "\u001b[1;31mNameError\u001b[0m: name 'sumaxis' is not defined"
     ]
    }
   ],
   "source": [
    "sumaxis.sum(axis=0)"
   ]
  },
  {
   "cell_type": "code",
   "execution_count": null,
   "id": "682e7581-db8a-437f-ba46-20a6c54502eb",
   "metadata": {},
   "outputs": [],
   "source": [
    "araxis.sum(axis=0)"
   ]
  },
  {
   "cell_type": "code",
   "execution_count": null,
   "id": "99ee6df7-3c35-46b0-91a9-5591fc810504",
   "metadata": {},
   "outputs": [],
   "source": [
    "araxis.sum(axis=1)"
   ]
  },
  {
   "cell_type": "code",
   "execution_count": null,
   "id": "49c98b41-5e2b-4e66-aa46-b3818b1fe691",
   "metadata": {},
   "outputs": [],
   "source": [
    "araxis.T"
   ]
  },
  {
   "cell_type": "code",
   "execution_count": null,
   "id": "362d4af1-b3fe-48e4-a3be-d101a8af61c5",
   "metadata": {},
   "outputs": [],
   "source": [
    "for i in araxis.flat:\n",
    "    print(i)"
   ]
  },
  {
   "cell_type": "code",
   "execution_count": null,
   "id": "bd1570da-6a5a-48cc-8867-865993f4b9ee",
   "metadata": {},
   "outputs": [],
   "source": [
    "ar.ndim"
   ]
  },
  {
   "cell_type": "code",
   "execution_count": null,
   "id": "0b2eb8c0-8d0f-480a-a157-f53062ec6aec",
   "metadata": {},
   "outputs": [],
   "source": [
    "araxis.ndim"
   ]
  },
  {
   "cell_type": "code",
   "execution_count": null,
   "id": "03409670-37f9-496b-8af5-f55ee25f32ab",
   "metadata": {},
   "outputs": [],
   "source": [
    "araxis.size"
   ]
  },
  {
   "cell_type": "code",
   "execution_count": null,
   "id": "ce4b3aab-fc7e-48c9-a88a-976fa1bff6d8",
   "metadata": {},
   "outputs": [],
   "source": [
    "araxis.size"
   ]
  },
  {
   "cell_type": "code",
   "execution_count": null,
   "id": "fb55ed7d-1606-4850-914c-606b07f2eda7",
   "metadata": {},
   "outputs": [],
   "source": [
    "araxis.nbytes"
   ]
  },
  {
   "cell_type": "code",
   "execution_count": null,
   "id": "6d2ff723-502c-460a-8ef2-c9b48e44b275",
   "metadata": {},
   "outputs": [],
   "source": [
    "one = np.array([1,4,3,5,456,3,3])"
   ]
  },
  {
   "cell_type": "code",
   "execution_count": null,
   "id": "a227086e-e645-4f0d-abe2-66ae0ac4a5a7",
   "metadata": {},
   "outputs": [],
   "source": [
    "one.argmax()"
   ]
  },
  {
   "cell_type": "code",
   "execution_count": null,
   "id": "cbb66c0e-f464-4a96-8953-18807a93a301",
   "metadata": {},
   "outputs": [],
   "source": [
    "one.argsort()"
   ]
  },
  {
   "cell_type": "code",
   "execution_count": null,
   "id": "8a996d5d-8ccf-4eb9-b848-ab938d06876a",
   "metadata": {},
   "outputs": [],
   "source": [
    "one.argsort(axis=0)"
   ]
  },
  {
   "cell_type": "code",
   "execution_count": null,
   "id": "76e5f3d6-25e8-4bf0-b870-d1246d59506b",
   "metadata": {},
   "outputs": [],
   "source": [
    "araxis.argsort(axis=1)"
   ]
  },
  {
   "cell_type": "code",
   "execution_count": null,
   "id": "b372e7ba-11ae-4942-9005-2c003024f885",
   "metadata": {},
   "outputs": [],
   "source": [
    "araxis.argsort(axis = 0)"
   ]
  },
  {
   "cell_type": "code",
   "execution_count": null,
   "id": "2f11d2fa-a2a8-4250-acd8-025d29822098",
   "metadata": {},
   "outputs": [],
   "source": [
    "one.ravel()"
   ]
  },
  {
   "cell_type": "code",
   "execution_count": null,
   "id": "d66af22e-b335-4283-b05e-8f91291b7e56",
   "metadata": {},
   "outputs": [],
   "source": [
    "one"
   ]
  },
  {
   "cell_type": "code",
   "execution_count": null,
   "id": "329b978c-5066-4b57-b5ec-0be4afef2b8a",
   "metadata": {},
   "outputs": [],
   "source": [
    "araxis.ravel()"
   ]
  },
  {
   "cell_type": "code",
   "execution_count": null,
   "id": "14826346-61ca-467a-9efb-958ecb5eac49",
   "metadata": {},
   "outputs": [],
   "source": [
    "one.reshape((1,7))"
   ]
  },
  {
   "cell_type": "code",
   "execution_count": null,
   "id": "24ef41e1-897f-4039-8be0-c6fff6f54950",
   "metadata": {},
   "outputs": [],
   "source": [
    "one2=np.array([[ 7, 4,  3],\n",
    "       [ 9,  8,  8],\n",
    "       [ 1,  3,  97]])"
   ]
  },
  {
   "cell_type": "code",
   "execution_count": null,
   "id": "5598b39c-978f-4773-b039-952e7fe03770",
   "metadata": {},
   "outputs": [],
   "source": [
    "one + one2"
   ]
  },
  {
   "cell_type": "code",
   "execution_count": null,
   "id": "fce62566-9d9f-4071-beac-9d6f12cf9897",
   "metadata": {},
   "outputs": [],
   "source": [
    "araxis + one2"
   ]
  },
  {
   "cell_type": "code",
   "execution_count": null,
   "id": "25c920fd-9c3e-4e99-80f8-0999ef31626c",
   "metadata": {},
   "outputs": [],
   "source": [
    "araxis * one2"
   ]
  },
  {
   "cell_type": "code",
   "execution_count": null,
   "id": "9853b49f-79b1-42a2-bd9e-8301960ea8a9",
   "metadata": {},
   "outputs": [],
   "source": [
    "araxis / one2"
   ]
  },
  {
   "cell_type": "code",
   "execution_count": null,
   "id": "59ad2dc2-caaa-473b-aea8-c276d09e3d09",
   "metadata": {},
   "outputs": [],
   "source": [
    "araxis - one2"
   ]
  },
  {
   "cell_type": "code",
   "execution_count": null,
   "id": "3533d0be-4bf6-4804-8070-215d88950a83",
   "metadata": {},
   "outputs": [],
   "source": [
    "np.sqrt(one2)"
   ]
  },
  {
   "cell_type": "code",
   "execution_count": null,
   "id": "65c808d4-16c6-4f38-8f7f-072c9c64f4f2",
   "metadata": {},
   "outputs": [],
   "source": [
    "one2.sum(axis=1)"
   ]
  },
  {
   "cell_type": "code",
   "execution_count": null,
   "id": "19cbe477-b4c8-4a00-a96d-6356955f2209",
   "metadata": {},
   "outputs": [],
   "source": [
    "one2.sum(axis=0)"
   ]
  },
  {
   "cell_type": "code",
   "execution_count": null,
   "id": "99ca7bc5-2a3a-4717-bbed-ddcb377146b4",
   "metadata": {},
   "outputs": [],
   "source": [
    "one2"
   ]
  },
  {
   "cell_type": "code",
   "execution_count": null,
   "id": "b034584f-05ee-40a1-900a-3bf2e8f8da11",
   "metadata": {},
   "outputs": [],
   "source": [
    "np.where(one2 > 4)"
   ]
  },
  {
   "cell_type": "code",
   "execution_count": null,
   "id": "22961b07-e3e2-49a0-a712-ab4d569e708e",
   "metadata": {},
   "outputs": [],
   "source": [
    "np.count_nonzero(one2)"
   ]
  },
  {
   "cell_type": "code",
   "execution_count": null,
   "id": "325e19ae-513f-4cf7-92c4-3a27ff2ecccb",
   "metadata": {},
   "outputs": [],
   "source": [
    "np.nonazero(one2)"
   ]
  },
  {
   "cell_type": "code",
   "execution_count": null,
   "id": "3bce0405-bf4e-4744-acb8-23f84e8bf779",
   "metadata": {},
   "outputs": [],
   "source": [
    "one.tolist()"
   ]
  },
  {
   "cell_type": "code",
   "execution_count": null,
   "id": "f0a85c53-6aae-4e71-81d6-107815f5c855",
   "metadata": {},
   "outputs": [],
   "source": [
    "arraxi.shape()"
   ]
  },
  {
   "cell_type": "code",
   "execution_count": null,
   "id": "363d3de8-f802-421f-aba9-f798179ab3b8",
   "metadata": {},
   "outputs": [],
   "source": [
    "araxis.shape()"
   ]
  },
  {
   "cell_type": "code",
   "execution_count": null,
   "id": "aa37863a-1745-4c39-85b8-4feea4b2f8ea",
   "metadata": {},
   "outputs": [],
   "source": [
    "arr.head()"
   ]
  },
  {
   "cell_type": "code",
   "execution_count": null,
   "id": "9d5b8609-545f-424b-a0c2-e4de992d57b0",
   "metadata": {},
   "outputs": [],
   "source": [
    "arr.shape()"
   ]
  },
  {
   "cell_type": "code",
   "execution_count": 52,
   "id": "0e14aebe-e12d-4658-973f-87d861938420",
   "metadata": {},
   "outputs": [
    {
     "ename": "TypeError",
     "evalue": "'tuple' object is not callable",
     "output_type": "error",
     "traceback": [
      "\u001b[1;31m---------------------------------------------------------------------------\u001b[0m",
      "\u001b[1;31mTypeError\u001b[0m                                 Traceback (most recent call last)",
      "Cell \u001b[1;32mIn[52], line 1\u001b[0m\n\u001b[1;32m----> 1\u001b[0m \u001b[43marr\u001b[49m\u001b[38;5;241;43m.\u001b[39;49m\u001b[43mshape\u001b[49m\u001b[43m(\u001b[49m\u001b[43m)\u001b[49m\n",
      "\u001b[1;31mTypeError\u001b[0m: 'tuple' object is not callable"
     ]
    }
   ],
   "source": [
    "arr.shape()"
   ]
  },
  {
   "cell_type": "code",
   "execution_count": null,
   "id": "f27683b4-4c2a-4ce4-b653-8e6a4ce2ccf8",
   "metadata": {},
   "outputs": [],
   "source": []
  }
 ],
 "metadata": {
  "kernelspec": {
   "display_name": "Python 3 (ipykernel)",
   "language": "python",
   "name": "python3"
  },
  "language_info": {
   "codemirror_mode": {
    "name": "ipython",
    "version": 3
   },
   "file_extension": ".py",
   "mimetype": "text/x-python",
   "name": "python",
   "nbconvert_exporter": "python",
   "pygments_lexer": "ipython3",
   "version": "3.10.6"
  }
 },
 "nbformat": 4,
 "nbformat_minor": 5
}
