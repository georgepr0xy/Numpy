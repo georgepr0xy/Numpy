{
 "cells": [
  {
   "cell_type": "markdown",
   "id": "403235d6-38d0-404b-9eb5-615869fba2e2",
   "metadata": {},
   "source": [
    "# Welcom to numpy"
   ]
  },
  {
   "cell_type": "code",
   "execution_count": 1,
   "id": "2b71eead-7243-4549-952f-cb1f969e4873",
   "metadata": {},
   "outputs": [],
   "source": [
    "import numpy as np"
   ]
  },
  {
   "cell_type": "code",
   "execution_count": 2,
   "id": "386669ea-5d8a-4499-9689-e35d7d98d9af",
   "metadata": {},
   "outputs": [],
   "source": [
    "myarr = np.array([2,3,4,5,6,3] , np.int64)"
   ]
  },
  {
   "cell_type": "code",
   "execution_count": 3,
   "id": "cf5cf877-f3ed-483d-b811-b25c82a9b5f3",
   "metadata": {},
   "outputs": [
    {
     "data": {
      "text/plain": [
       "array([2, 3, 4, 5, 6, 3], dtype=int64)"
      ]
     },
     "execution_count": 3,
     "metadata": {},
     "output_type": "execute_result"
    }
   ],
   "source": [
    "myarr"
   ]
  },
  {
   "cell_type": "code",
   "execution_count": 4,
   "id": "8308b09e-c28c-4034-ad7d-af1f33815903",
   "metadata": {},
   "outputs": [
    {
     "data": {
      "text/plain": [
       "3"
      ]
     },
     "execution_count": 4,
     "metadata": {},
     "output_type": "execute_result"
    }
   ],
   "source": [
    "myarr[1]"
   ]
  },
  {
   "cell_type": "code",
   "execution_count": 5,
   "id": "9fd3a4ed-6d53-4ae6-b82f-f3dddde6966a",
   "metadata": {},
   "outputs": [
    {
     "data": {
      "text/plain": [
       "(6,)"
      ]
     },
     "execution_count": 5,
     "metadata": {},
     "output_type": "execute_result"
    }
   ],
   "source": [
    "myarr.shape"
   ]
  },
  {
   "cell_type": "code",
   "execution_count": 6,
   "id": "f4c0595f-4fbd-425d-be53-b2f75d52cd31",
   "metadata": {},
   "outputs": [
    {
     "data": {
      "text/plain": [
       "dtype('int64')"
      ]
     },
     "execution_count": 6,
     "metadata": {},
     "output_type": "execute_result"
    }
   ],
   "source": [
    "myarr.dtype"
   ]
  },
  {
   "cell_type": "code",
   "execution_count": 7,
   "id": "9cec7e52-e98b-4f7f-baa6-b9a2901a365c",
   "metadata": {},
   "outputs": [],
   "source": [
    "myarr[3]=23"
   ]
  },
  {
   "cell_type": "code",
   "execution_count": 8,
   "id": "347d1c80-e1b4-46c3-904f-d9d0bc1b095d",
   "metadata": {},
   "outputs": [
    {
     "data": {
      "text/plain": [
       "array([ 2,  3,  4, 23,  6,  3], dtype=int64)"
      ]
     },
     "execution_count": 8,
     "metadata": {},
     "output_type": "execute_result"
    }
   ],
   "source": [
    "myarr"
   ]
  },
  {
   "cell_type": "code",
   "execution_count": 9,
   "id": "d434a958-4619-4dd2-a958-8b2408029192",
   "metadata": {},
   "outputs": [
    {
     "data": {
      "text/plain": [
       "2"
      ]
     },
     "execution_count": 9,
     "metadata": {},
     "output_type": "execute_result"
    }
   ],
   "source": [
    "myarr[0]"
   ]
  },
  {
   "cell_type": "code",
   "execution_count": 10,
   "id": "1ae99acc-c15d-4661-9ac0-e8e2510c481c",
   "metadata": {},
   "outputs": [
    {
     "data": {
      "text/plain": [
       "(6,)"
      ]
     },
     "execution_count": 10,
     "metadata": {},
     "output_type": "execute_result"
    }
   ],
   "source": [
    "myarr.shape"
   ]
  },
  {
   "cell_type": "code",
   "execution_count": 11,
   "id": "e0142d86-a9e0-413a-8094-67e96cd75b20",
   "metadata": {},
   "outputs": [
    {
     "data": {
      "text/plain": [
       "(6,)"
      ]
     },
     "execution_count": 11,
     "metadata": {},
     "output_type": "execute_result"
    }
   ],
   "source": [
    "myarr.shape"
   ]
  },
  {
   "cell_type": "code",
   "execution_count": 13,
   "id": "b35d01e6-501d-48d3-a130-c390b74a2579",
   "metadata": {},
   "outputs": [
    {
     "data": {
      "text/plain": [
       "6"
      ]
     },
     "execution_count": 13,
     "metadata": {},
     "output_type": "execute_result"
    }
   ],
   "source": [
    "myarr[4]"
   ]
  },
  {
   "cell_type": "code",
   "execution_count": 14,
   "id": "e9f1ea84-ccd4-4260-bc68-921673105e36",
   "metadata": {},
   "outputs": [],
   "source": [
    "myarr[4]=35"
   ]
  },
  {
   "cell_type": "code",
   "execution_count": 15,
   "id": "07c2e722-7e72-425c-826a-af3588dab920",
   "metadata": {},
   "outputs": [
    {
     "data": {
      "text/plain": [
       "35"
      ]
     },
     "execution_count": 15,
     "metadata": {},
     "output_type": "execute_result"
    }
   ],
   "source": [
    "myarr[4]"
   ]
  },
  {
   "cell_type": "code",
   "execution_count": 16,
   "id": "b1a3aed5-0626-4480-b010-86c129085403",
   "metadata": {},
   "outputs": [
    {
     "data": {
      "text/plain": [
       "array([ 2,  3,  4, 23, 35,  3], dtype=int64)"
      ]
     },
     "execution_count": 16,
     "metadata": {},
     "output_type": "execute_result"
    }
   ],
   "source": [
    "myarr"
   ]
  },
  {
   "cell_type": "markdown",
   "id": "3f040ac0-17a1-42bc-ac07-2fdf330fdf5a",
   "metadata": {},
   "source": [
    "# Array creation: conversion fro python structures"
   ]
  },
  {
   "cell_type": "code",
   "execution_count": 19,
   "id": "71202a64-dc85-4027-8f4d-2e5eb2e8dcba",
   "metadata": {},
   "outputs": [],
   "source": [
    "dimensarray = np.array([[2,56,34],[4,6,54],[34,3,45]])"
   ]
  },
  {
   "cell_type": "code",
   "execution_count": 20,
   "id": "a4120017-4776-42da-b2c5-e0fdf603abe3",
   "metadata": {},
   "outputs": [
    {
     "data": {
      "text/plain": [
       "array([[ 2, 56, 34],\n",
       "       [ 4,  6, 54],\n",
       "       [34,  3, 45]])"
      ]
     },
     "execution_count": 20,
     "metadata": {},
     "output_type": "execute_result"
    }
   ],
   "source": [
    "dimensarray"
   ]
  },
  {
   "cell_type": "code",
   "execution_count": 21,
   "id": "0cfbcf45-d795-47df-9277-a358556bc768",
   "metadata": {},
   "outputs": [
    {
     "data": {
      "text/plain": [
       "9"
      ]
     },
     "execution_count": 21,
     "metadata": {},
     "output_type": "execute_result"
    }
   ],
   "source": [
    "dimensarray.size"
   ]
  },
  {
   "cell_type": "code",
   "execution_count": 22,
   "id": "04f4974b-5fc8-4115-8c55-077dc4979227",
   "metadata": {},
   "outputs": [
    {
     "data": {
      "text/plain": [
       "(3, 3)"
      ]
     },
     "execution_count": 22,
     "metadata": {},
     "output_type": "execute_result"
    }
   ],
   "source": [
    "dimensarray.shape"
   ]
  },
  {
   "cell_type": "code",
   "execution_count": null,
   "id": "ed124fa3-af14-4861-85b1-db4df89e58a1",
   "metadata": {},
   "outputs": [],
   "source": [
    "dimensarray.dtype"
   ]
  }
 ],
 "metadata": {
  "kernelspec": {
   "display_name": "Python 3 (ipykernel)",
   "language": "python",
   "name": "python3"
  },
  "language_info": {
   "codemirror_mode": {
    "name": "ipython",
    "version": 3
   },
   "file_extension": ".py",
   "mimetype": "text/x-python",
   "name": "python",
   "nbconvert_exporter": "python",
   "pygments_lexer": "ipython3",
   "version": "3.10.6"
  }
 },
 "nbformat": 4,
 "nbformat_minor": 5
}
