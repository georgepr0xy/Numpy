{
 "cells": [
  {
   "cell_type": "markdown",
   "id": "403235d6-38d0-404b-9eb5-615869fba2e2",
   "metadata": {},
   "source": [
    "#Welcom to numpy"
   ]
  },
  {
   "cell_type": "code",
   "execution_count": 1,
   "id": "2b71eead-7243-4549-952f-cb1f969e4873",
   "metadata": {},
   "outputs": [],
   "source": [
    "import numpy as np"
   ]
  },
  {
   "cell_type": "code",
   "execution_count": 4,
   "id": "386669ea-5d8a-4499-9689-e35d7d98d9af",
   "metadata": {},
   "outputs": [],
   "source": [
    "myarr = np.array([2,3,4,5,6,3] , np.int64)"
   ]
  },
  {
   "cell_type": "code",
   "execution_count": 5,
   "id": "cf5cf877-f3ed-483d-b811-b25c82a9b5f3",
   "metadata": {},
   "outputs": [
    {
     "data": {
      "text/plain": [
       "array([2, 3, 4, 5, 6, 3], dtype=int64)"
      ]
     },
     "execution_count": 5,
     "metadata": {},
     "output_type": "execute_result"
    }
   ],
   "source": [
    "myarr"
   ]
  },
  {
   "cell_type": "code",
   "execution_count": 7,
   "id": "8308b09e-c28c-4034-ad7d-af1f33815903",
   "metadata": {},
   "outputs": [
    {
     "data": {
      "text/plain": [
       "3"
      ]
     },
     "execution_count": 7,
     "metadata": {},
     "output_type": "execute_result"
    }
   ],
   "source": [
    "myarr[1]"
   ]
  },
  {
   "cell_type": "code",
   "execution_count": 8,
   "id": "9fd3a4ed-6d53-4ae6-b82f-f3dddde6966a",
   "metadata": {},
   "outputs": [
    {
     "data": {
      "text/plain": [
       "(6,)"
      ]
     },
     "execution_count": 8,
     "metadata": {},
     "output_type": "execute_result"
    }
   ],
   "source": [
    "myarr.shape"
   ]
  },
  {
   "cell_type": "code",
   "execution_count": 9,
   "id": "f4c0595f-4fbd-425d-be53-b2f75d52cd31",
   "metadata": {},
   "outputs": [
    {
     "data": {
      "text/plain": [
       "dtype('int64')"
      ]
     },
     "execution_count": 9,
     "metadata": {},
     "output_type": "execute_result"
    }
   ],
   "source": [
    "myarr.dtype"
   ]
  },
  {
   "cell_type": "code",
   "execution_count": 10,
   "id": "9cec7e52-e98b-4f7f-baa6-b9a2901a365c",
   "metadata": {},
   "outputs": [],
   "source": [
    "myarr[3]=23"
   ]
  },
  {
   "cell_type": "code",
   "execution_count": 11,
   "id": "347d1c80-e1b4-46c3-904f-d9d0bc1b095d",
   "metadata": {},
   "outputs": [
    {
     "data": {
      "text/plain": [
       "array([ 2,  3,  4, 23,  6,  3], dtype=int64)"
      ]
     },
     "execution_count": 11,
     "metadata": {},
     "output_type": "execute_result"
    }
   ],
   "source": [
    "myarr"
   ]
  },
  {
   "cell_type": "code",
   "execution_count": null,
   "id": "d434a958-4619-4dd2-a958-8b2408029192",
   "metadata": {},
   "outputs": [],
   "source": []
  }
 ],
 "metadata": {
  "kernelspec": {
   "display_name": "Python 3 (ipykernel)",
   "language": "python",
   "name": "python3"
  },
  "language_info": {
   "codemirror_mode": {
    "name": "ipython",
    "version": 3
   },
   "file_extension": ".py",
   "mimetype": "text/x-python",
   "name": "python",
   "nbconvert_exporter": "python",
   "pygments_lexer": "ipython3",
   "version": "3.10.6"
  }
 },
 "nbformat": 4,
 "nbformat_minor": 5
}
